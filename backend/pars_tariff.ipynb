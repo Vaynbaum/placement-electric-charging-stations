{
 "cells": [
  {
   "cell_type": "code",
   "execution_count": 9,
   "metadata": {},
   "outputs": [],
   "source": [
    "import requests\n",
    "from bs4 import BeautifulSoup\n",
    "\n",
    "LINK = 'https://time2save.ru/tarify-na-elektroenergiu-dlya-srednih-predpriyatiy'\n",
    "HEADERS = {\n",
    "    \"user-agent\": \"Mozilla/5.0 (Windows NT 10.0; Win64; x64) AppleWebKit/537.36 (KHTML, like Gecko) Chrome/99.0.4844.74 Safari/537.36 Edg/99.0.1150.55\"\n",
    "}\n",
    "\n",
    "response = requests.get(LINK, headers=HEADERS)\n",
    "src = response.text\n",
    "soup = BeautifulSoup(src, \"lxml\")"
   ]
  },
  {
   "cell_type": "code",
   "execution_count": 13,
   "metadata": {},
   "outputs": [],
   "source": [
    "import json\n",
    "res = {}\n",
    "all_tr = soup.find_all('tr')[2:]\n",
    "for tr in all_tr:\n",
    "    all_td = tr.find_all('td')\n",
    "    name = all_td[0].text\n",
    "    tariff = all_td[6].text\n",
    "    res.setdefault(name, [])\n",
    "    res[name].append(tariff)\n",
    "with open(\"traffic.json\", \"w\", encoding=\"utf-8\") as file:\n",
    "    json.dump(res, file, indent=4, ensure_ascii=False)"
   ]
  }
 ],
 "metadata": {
  "kernelspec": {
   "display_name": "backend-zJMeRJnk",
   "language": "python",
   "name": "python3"
  },
  "language_info": {
   "codemirror_mode": {
    "name": "ipython",
    "version": 3
   },
   "file_extension": ".py",
   "mimetype": "text/x-python",
   "name": "python",
   "nbconvert_exporter": "python",
   "pygments_lexer": "ipython3",
   "version": "3.10.4"
  }
 },
 "nbformat": 4,
 "nbformat_minor": 2
}
